{
 "cells": [
  {
   "cell_type": "code",
   "execution_count": 1,
   "id": "2f456b9f",
   "metadata": {
    "scrolled": false
   },
   "outputs": [
    {
     "name": "stdout",
     "output_type": "stream",
     "text": [
      "      id  lieu_infraction _no_civique lieu_infraction _rue  \\\n",
      "0      1                         2094        Place Beaudet   \n",
      "1      2                         2094        Place Beaudet   \n",
      "2      3                         3290                Goyer   \n",
      "3      4                         3290                Goyer   \n",
      "4      5                         3290                Goyer   \n",
      "..   ...                          ...                  ...   \n",
      "96    97                         4550              Brebeuf   \n",
      "97    98                         4540              Brebeuf   \n",
      "98    99                         4524              Brebeuf   \n",
      "99   100                         4524              Brebeuf   \n",
      "100  101                         4524              Brebeuf   \n",
      "\n",
      "    code_arrondissement          nom_contrevenant          article  \\\n",
      "0                    ST          Michael A. Pires         23 al. 1   \n",
      "1                    ST          Michael A. Pires         23 al. 2   \n",
      "2                    CN  Immeuble 3290 Goyer Inc.  25 al. 2 par. 9   \n",
      "3                    CN  Immeuble 3290 Goyer Inc.  25 al. 2 par. 9   \n",
      "4                    CN  Immeuble 3290 Goyer Inc.  25 al. 2 par. 9   \n",
      "..                  ...                       ...              ...   \n",
      "96                   PL         El Akrass Hussein               28   \n",
      "97                   PL         El Akrass Hussein               28   \n",
      "98                   PL         El Akrass Hussein               26   \n",
      "99                   PL         El Akrass Hussein        35.2 al.1   \n",
      "100                  PL         El Akrass Hussein            64.54   \n",
      "\n",
      "                                     nature_infraction date_jugement  \\\n",
      "0    En ayant une partie du bâtiment évacué en vert...    05-04-2018   \n",
      "1    Étant propriétaire d'un bâtiment en n'ayant pa...    05-04-2018   \n",
      "2     En ayant des rongeurs (souris) dans un logement.    05-04-2018   \n",
      "3              En ayant des rongeurs dans un logement.    05-04-2018   \n",
      "4    En ayant des insectes (coquerelles) dans un lo...    05-04-2018   \n",
      "..                                                 ...           ...   \n",
      "96   en ayant un bâtiment dont les ouvertures dans ...    28-04-2021   \n",
      "97   en ayant une partie ou un accessoire d'un bâti...    28-04-2021   \n",
      "98   en ayant une partie constituante d'un bâtiment...    28-04-2021   \n",
      "99   En ayant une pièce ou un espace destiné à la p...    28-04-2021   \n",
      "100  En ayant un balcon qui n'est pas muni d'un gar...    28-04-2021   \n",
      "\n",
      "     amende_imposée  \n",
      "0              1500  \n",
      "1              1500  \n",
      "2              1350  \n",
      "3              1350  \n",
      "4              1350  \n",
      "..              ...  \n",
      "96             1500  \n",
      "97              675  \n",
      "98             1500  \n",
      "99              675  \n",
      "100             250  \n",
      "\n",
      "[101 rows x 9 columns]\n"
     ]
    }
   ],
   "source": [
    "import pandas\n",
    "donnees_logements = pandas.read_csv(\"logements_datas.csv\")\n",
    "print(donnees_logements)"
   ]
  },
  {
   "cell_type": "code",
   "execution_count": 2,
   "id": "68f41758",
   "metadata": {
    "scrolled": true
   },
   "outputs": [
    {
     "name": "stdout",
     "output_type": "stream",
     "text": [
      "nom_contrevenant\n",
      "9357-2881 QC Inc.                           15850\n",
      "4378962 Canada Inc.                         14200\n",
      "Les Investissements Convoy Inc.             12000\n",
      "Gestion 3201 Henri Bourassa Inc.             8500\n",
      "El Akrass Hussein                            5950\n",
      "Tofara Makoni                                5175\n",
      "Chanthea Say                                 5050\n",
      "Immeuble 3290 Goyer Inc.                     4550\n",
      "9331-2700 QC. Inc.                           4050\n",
      "9362-1522 QC. Inc.                           3850\n",
      "Taing Sutheara Charly                        3675\n",
      "9216-3948 Québec Inc Extermination Roger     3500\n",
      "Veng Kheang Ngoy                             3250\n",
      "Michael A. Pires                             3000\n",
      "Immo Côte-Vertu 2Ltd                         2500\n",
      "Fishman Issie                                1500\n",
      "Wilson Shirley                               1500\n",
      "Luc Vong                                     1500\n",
      "Rocco Lavallé                                1500\n",
      "Vinodkuma Patel                              1350\n",
      "10880884 Quebec Inc.                         1350\n",
      "9332-9696 QC.Inc.                            1350\n",
      "9309-2005 Québec Inc.                        1350\n",
      "Kainth Tajinder                              1175\n",
      "Luis Enrique Mena Delgado                     850\n",
      "Exact Vladimir                                750\n",
      "10880884 Canada Inc                           500\n",
      "Rodriguez Barthelus                           500\n",
      "D'Haiti Violaine                              400\n",
      "Yen Bo LY                                     300\n",
      "Mario Tates                                   250\n",
      "Elena Harizomenov                             250\n",
      "Constant Françoise                            250\n",
      "Name: amende_imposée, dtype: int64\n"
     ]
    }
   ],
   "source": [
    "total_amende_contrevenant = donnees_logements.groupby(\"nom_contrevenant\")[\"amende_imposée\"].sum().sort_values(ascending=False)\n",
    "print(total_amende_contrevenant)"
   ]
  },
  {
   "cell_type": "code",
   "execution_count": 3,
   "id": "3d2f2312",
   "metadata": {},
   "outputs": [
    {
     "name": "stdout",
     "output_type": "stream",
     "text": [
      "nom_contrevenant\n",
      "4378962 Canada Inc.                         15\n",
      "9216-3948 Québec Inc Extermination Roger     7\n",
      "9357-2881 QC Inc.                            7\n",
      "El Akrass Hussein                            7\n",
      "Gestion 3201 Henri Bourassa Inc.             6\n",
      "Immo Côte-Vertu 2Ltd                         5\n",
      "Chanthea Say                                 4\n",
      "Les Investissements Convoy Inc.              4\n",
      "Immeuble 3290 Goyer Inc.                     4\n",
      "Tofara Makoni                                4\n",
      "Veng Kheang Ngoy                             3\n",
      "Luis Enrique Mena Delgado                    3\n",
      "9362-1522 QC. Inc.                           3\n",
      "Taing Sutheara Charly                        3\n",
      "9331-2700 QC. Inc.                           3\n",
      "Kainth Tajinder                              3\n",
      "Rodriguez Barthelus                          2\n",
      "Michael A. Pires                             2\n",
      "Vinodkuma Patel                              2\n",
      "Rocco Lavallé                                1\n",
      "Wilson Shirley                               1\n",
      "Mario Tates                                  1\n",
      "10880884 Canada Inc                          1\n",
      "Luc Vong                                     1\n",
      "10880884 Quebec Inc.                         1\n",
      "Fishman Issie                                1\n",
      "Exact Vladimir                               1\n",
      "Elena Harizomenov                            1\n",
      "D'Haiti Violaine                             1\n",
      "Constant Françoise                           1\n",
      "9332-9696 QC.Inc.                            1\n",
      "9309-2005 Québec Inc.                        1\n",
      "Yen Bo LY                                    1\n",
      "Name: nom_contrevenant, dtype: int64\n"
     ]
    }
   ],
   "source": [
    "count_amende_contrevenant = donnees_logements.groupby(\"nom_contrevenant\")[\"nom_contrevenant\"].count().sort_values(ascending=False)\n",
    "print(count_amende_contrevenant)"
   ]
  },
  {
   "cell_type": "code",
   "execution_count": null,
   "id": "7f178d3f",
   "metadata": {},
   "outputs": [],
   "source": []
  }
 ],
 "metadata": {
  "kernelspec": {
   "display_name": "Python 3 (ipykernel)",
   "language": "python",
   "name": "python3"
  },
  "language_info": {
   "codemirror_mode": {
    "name": "ipython",
    "version": 3
   },
   "file_extension": ".py",
   "mimetype": "text/x-python",
   "name": "python",
   "nbconvert_exporter": "python",
   "pygments_lexer": "ipython3",
   "version": "3.10.1"
  }
 },
 "nbformat": 4,
 "nbformat_minor": 5
}
